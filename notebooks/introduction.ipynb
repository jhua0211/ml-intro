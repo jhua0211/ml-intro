{
 "cells": [
  {
   "cell_type": "markdown",
   "metadata": {},
   "source": [
    "# Artificial intelligence\n",
    "[Wikipedia](https://en.wikipedia.org/wiki/Artificial_intelligence) says:\n",
    "> Colloquially, the term \"artificial intelligence\" is often used to describe machines (or computers) that mimic \"cognitive\" functions that humans associate with the human mind, such as \"learning\" and \"problem solving\".\n",
    "\n",
    "\n",
    "**Do machines learn?**\n",
    "\n",
    "## Machine learning\n",
    "[Wikipedia](https://en.wikipedia.org/wiki/Machine_learning) says:\n",
    ">Machine learning (ML) is the study of computer algorithms that improve automatically through experience.\n",
    "\n",
    "It uses data and optimization. Machines do not learn. They find a mathematical function to produce outputs given inputs. Slightly changing the input will usually cause failure.\n",
    "\n",
    "Sub-branches:\n",
    "\n",
    "- **Supervised learning:** The computer is presented with example inputs and their desired outputs, given by a \"teacher\", and the goal is to learn a general rule that maps inputs to outputs. -Discete Calssifications and Regression\n",
    "- **Unsupervised learning:** No labels are given to the learning algorithm, leaving it on its own to find structure in its input. Unsupervised learning can be a goal in itself (discovering hidden patterns in data) or a means towards an end (feature learning).-no labels, clustering\n",
    "- **Reinforcement learning:** A computer program interacts with a dynamic environment in which it must perform a certain goal (such as driving a vehicle or playing a game against an opponent). As it navigates its problem space, the program is provided feedback that's analogous to rewards, which it tries to maximize.-an example is atari games\n",
    "\n",
    "\n",
    "### Deep learning\n",
    "[Wikipwdia](https://en.wikipedia.org/wiki/Deep_learning) says:\n",
    ">Deep learning (also known as deep structured learning) is part of a broader family of machine learning methods based on artificial neural networks with representation learning. Learning can be supervised, semi-supervised or unsupervised.\n",
    "\n",
    "Two interesting tools:\n",
    "1. [fastai](https://www.fast.ai) Deep learning library for Python and free online MOOC.\n",
    "2. [lobe](https://www.lobe.ai) Deep learning without programming.\n",
    "\n",
    "## Buzzwords\n",
    "- [Agent57](https://deepmind.com/blog/article/Agent57-Outperforming-the-human-Atari-benchmark) Atari games\n",
    "- [GPT-3](https://gpt3examples.com) Language model\n",
    "- [Deepfake](https://en.wikipedia.org/wiki/Deepfake) Style transfer\n",
    "- [Self driving cars](https://en.wikipedia.org/wiki/Self-driving_car)\n",
    "- [AlphaGo](https://en.wikipedia.org/wiki/AlphaGo) Artificial Go player\n",
    "\n",
    "Side note: Can GPT-3 do [Dr Seuss](https://www.gwern.net/GPT-3#dr-seuss-the-lorax)?\n",
    "\n",
    "Side note 2: [Moral issues](https://www.moralmachine.net) of self-driving cars\n",
    "\n",
    "## Biomedical\n",
    "- [Privacy preserving AI](https://www.openmined.org) more information in this [video presentation](https://www.youtube.com/watch?v=4zrU54VIK6k&list=PLrAXtmErZgOeiKm4sgNOknGvNjby9efdf&index=3)\n",
    "- Radiology assistant [Chester](https://mlmed.org/tools/xray/)\n",
    "- [AlphaFold](https://www.alphafold.ebi.ac.uk/) Predict protein structure\n",
    "\n",
    "## Traditional (statistical) Machine learning\n",
    "Using Python scikit-learn, let's explore the two sub-fields:\n",
    "1. Supervised learning:\n",
    "  - Classification\n",
    "  - Regression\n",
    "2. Unsupervised learning:\n",
    "  - Dimensionality reduction\n",
    "  - Clustering\n"
   ]
  },
  {
   "cell_type": "code",
   "execution_count": null,
   "metadata": {},
   "outputs": [],
   "source": []
  }
 ],
 "metadata": {
  "kernelspec": {
   "display_name": "Python 3",
   "language": "python",
   "name": "python3"
  },
  "language_info": {
   "codemirror_mode": {
    "name": "ipython",
    "version": 3
   },
   "file_extension": ".py",
   "mimetype": "text/x-python",
   "name": "python",
   "nbconvert_exporter": "python",
   "pygments_lexer": "ipython3",
   "version": "3.8.8"
  }
 },
 "nbformat": 4,
 "nbformat_minor": 4
}
