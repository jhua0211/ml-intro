{
 "cells": [
  {
   "cell_type": "markdown",
   "metadata": {},
   "source": [
    "# Numpy\n",
    "As described at https://numpy.org  \n",
    "> NumPy is the fundamental package for scientific computing with Python. It contains among other things:\n",
    "> - a powerful N-dimensional array object\n",
    "> - sophisticated (broadcasting) functions\n",
    "> - tools for integrating C/C++ and Fortran code\n",
    "> - useful linear algebra, Fourier transform, and random number capabilities\n",
    "\n",
    "If you are familiar with Matlab, this comparison might be useful:\n",
    "https://docs.scipy.org/doc/numpy/user/numpy-for-matlab-users.html\n",
    "\n",
    "## Resources\n",
    "1. Ch 4 in Python for Data Analysis, 2nd Ed, Wes McKinney (UCalgary library and https://github.com/wesm/pydata-book)\n",
    "2. Ch 2 in Python Data Science Handbook, Jake VanderPlas (Ucalgary library and https://github.com/jakevdp/PythonDataScienceHandbook)\n",
    "\n",
    "\n",
    "Let's explore some of the features. \n",
    "\n",
    "First, import Numpy"
   ]
  },
  {
   "cell_type": "code",
   "execution_count": 1,
   "metadata": {},
   "outputs": [],
   "source": [
    "import numpy as np"
   ]
  },
  {
   "cell_type": "markdown",
   "metadata": {},
   "source": [
    "## Create numpy arrays\n",
    "Here are several ways how to create numpy arrays\n",
    "\n",
    "```python\n",
    ">>> np.zeros((3,4))\n",
    ">>> np.ones((2,3,4),dtype=np.int16) \n",
    ">>> d = np.arange(10,25,5)\n",
    ">>> np.linspace(0,2,9)\n",
    "```"
   ]
  },
  {
   "cell_type": "code",
   "execution_count": 2,
   "metadata": {},
   "outputs": [
    {
     "data": {
      "text/plain": [
       "array([0.  , 0.25, 0.5 , 0.75, 1.  , 1.25, 1.5 , 1.75, 2.  ])"
      ]
     },
     "execution_count": 2,
     "metadata": {},
     "output_type": "execute_result"
    }
   ],
   "source": [
    "# start-stop and number of values evenly spaced\n",
    "np.linspace(0,2,9)"
   ]
  },
  {
   "cell_type": "code",
   "execution_count": 3,
   "metadata": {},
   "outputs": [
    {
     "data": {
      "text/plain": [
       "array([10, 15, 20])"
      ]
     },
     "execution_count": 3,
     "metadata": {},
     "output_type": "execute_result"
    }
   ],
   "source": [
    "# start-stop(excluded) and increment\n",
    "d = np.arange(10,25,5)\n",
    "d"
   ]
  },
  {
   "cell_type": "markdown",
   "metadata": {},
   "source": [
    "Additionally, arrays can be generated from python lists"
   ]
  },
  {
   "cell_type": "code",
   "execution_count": 4,
   "metadata": {},
   "outputs": [
    {
     "data": {
      "text/plain": [
       "array([1, 2, 3, 4])"
      ]
     },
     "execution_count": 4,
     "metadata": {},
     "output_type": "execute_result"
    }
   ],
   "source": [
    "a = np.array([1, 2, 3, 4])\n",
    "a"
   ]
  },
  {
   "cell_type": "markdown",
   "metadata": {},
   "source": [
    "### Random arrays\n",
    "Sometimes it is handy to generate arrays with random entries, just for testing.\n",
    "\n",
    "The numpy.random module has many useful functions. To get help on numpy functions or modules you can use:\n",
    "```python\n",
    "np.info(np.random)\n",
    "```\n",
    "\n",
    "Of course, python `help()` or jupyter `?` will work too. Another nice trick is `tab` for tab completion, and `shift-tab` twice to get info on function parameters"
   ]
  },
  {
   "cell_type": "code",
   "execution_count": 5,
   "metadata": {},
   "outputs": [
    {
     "name": "stdout",
     "output_type": "stream",
     "text": [
      "========================\n",
      "Random Number Generation\n",
      "========================\n",
      "\n",
      "Use ``default_rng()`` to create a `Generator` and call its methods.\n",
      "\n",
      "=============== =========================================================\n",
      "Generator\n",
      "--------------- ---------------------------------------------------------\n",
      "Generator       Class implementing all of the random number distributions\n",
      "default_rng     Default constructor for ``Generator``\n",
      "=============== =========================================================\n",
      "\n",
      "============================================= ===\n",
      "BitGenerator Streams that work with Generator\n",
      "--------------------------------------------- ---\n",
      "MT19937\n",
      "PCG64\n",
      "Philox\n",
      "SFC64\n",
      "============================================= ===\n",
      "\n",
      "============================================= ===\n",
      "Getting entropy to initialize a BitGenerator\n",
      "--------------------------------------------- ---\n",
      "SeedSequence\n",
      "============================================= ===\n",
      "\n",
      "\n",
      "Legacy\n",
      "------\n",
      "\n",
      "For backwards compatibility with previous versions of numpy before 1.17, the\n",
      "various aliases to the global `RandomState` methods are left alone and do not\n",
      "use the new `Generator` API.\n",
      "\n",
      "==================== =========================================================\n",
      "Utility functions\n",
      "-------------------- ---------------------------------------------------------\n",
      "random               Uniformly distributed floats over ``[0, 1)``\n",
      "bytes                Uniformly distributed random bytes.\n",
      "permutation          Randomly permute a sequence / generate a random sequence.\n",
      "shuffle              Randomly permute a sequence in place.\n",
      "choice               Random sample from 1-D array.\n",
      "==================== =========================================================\n",
      "\n",
      "==================== =========================================================\n",
      "Compatibility\n",
      "functions - removed\n",
      "in the new API\n",
      "-------------------- ---------------------------------------------------------\n",
      "rand                 Uniformly distributed values.\n",
      "randn                Normally distributed values.\n",
      "ranf                 Uniformly distributed floating point numbers.\n",
      "random_integers      Uniformly distributed integers in a given range.\n",
      "                     (deprecated, use ``integers(..., closed=True)`` instead)\n",
      "random_sample        Alias for `random_sample`\n",
      "randint              Uniformly distributed integers in a given range\n",
      "seed                 Seed the legacy random number generator.\n",
      "==================== =========================================================\n",
      "\n",
      "==================== =========================================================\n",
      "Univariate\n",
      "distributions\n",
      "-------------------- ---------------------------------------------------------\n",
      "beta                 Beta distribution over ``[0, 1]``.\n",
      "binomial             Binomial distribution.\n",
      "chisquare            :math:`\\chi^2` distribution.\n",
      "exponential          Exponential distribution.\n",
      "f                    F (Fisher-Snedecor) distribution.\n",
      "gamma                Gamma distribution.\n",
      "geometric            Geometric distribution.\n",
      "gumbel               Gumbel distribution.\n",
      "hypergeometric       Hypergeometric distribution.\n",
      "laplace              Laplace distribution.\n",
      "logistic             Logistic distribution.\n",
      "lognormal            Log-normal distribution.\n",
      "logseries            Logarithmic series distribution.\n",
      "negative_binomial    Negative binomial distribution.\n",
      "noncentral_chisquare Non-central chi-square distribution.\n",
      "noncentral_f         Non-central F distribution.\n",
      "normal               Normal / Gaussian distribution.\n",
      "pareto               Pareto distribution.\n",
      "poisson              Poisson distribution.\n",
      "power                Power distribution.\n",
      "rayleigh             Rayleigh distribution.\n",
      "triangular           Triangular distribution.\n",
      "uniform              Uniform distribution.\n",
      "vonmises             Von Mises circular distribution.\n",
      "wald                 Wald (inverse Gaussian) distribution.\n",
      "weibull              Weibull distribution.\n",
      "zipf                 Zipf's distribution over ranked data.\n",
      "==================== =========================================================\n",
      "\n",
      "==================== ==========================================================\n",
      "Multivariate\n",
      "distributions\n",
      "-------------------- ----------------------------------------------------------\n",
      "dirichlet            Multivariate generalization of Beta distribution.\n",
      "multinomial          Multivariate generalization of the binomial distribution.\n",
      "multivariate_normal  Multivariate generalization of the normal distribution.\n",
      "==================== ==========================================================\n",
      "\n",
      "==================== =========================================================\n",
      "Standard\n",
      "distributions\n",
      "-------------------- ---------------------------------------------------------\n",
      "standard_cauchy      Standard Cauchy-Lorentz distribution.\n",
      "standard_exponential Standard exponential distribution.\n",
      "standard_gamma       Standard Gamma distribution.\n",
      "standard_normal      Standard normal distribution.\n",
      "standard_t           Standard Student's t-distribution.\n",
      "==================== =========================================================\n",
      "\n",
      "==================== =========================================================\n",
      "Internal functions\n",
      "-------------------- ---------------------------------------------------------\n",
      "get_state            Get tuple representing internal state of generator.\n",
      "set_state            Set state of generator.\n",
      "==================== =========================================================\n"
     ]
    }
   ],
   "source": [
    "# what is in random\n",
    "np.info(np.random)"
   ]
  },
  {
   "cell_type": "markdown",
   "metadata": {},
   "source": [
    "**Use a seed**. It is good practice to set the seed of the random generator so that everytime you run the cell, the same numbers are generated. It makes debugging a lot easier.\n",
    "\n",
    "Now lets generate a matrix with random integers [0, 10) of size 5x4 with `randint()`, and a python list with 10 random entries from a list of strings containing 'low', 'medium', 'high' with `choice()`. Another useful function is `shuffle()`, try it out too."
   ]
  },
  {
   "cell_type": "code",
   "execution_count": 6,
   "metadata": {},
   "outputs": [
    {
     "data": {
      "text/plain": [
       "array([[7, 9, 8, 1],\n",
       "       [5, 1, 2, 8],\n",
       "       [8, 8, 4, 6],\n",
       "       [9, 7, 2, 7],\n",
       "       [6, 4, 6, 7]])"
      ]
     },
     "execution_count": 6,
     "metadata": {},
     "output_type": "execute_result"
    }
   ],
   "source": [
    "np.random.seed(1992)\n",
    "A = np.random.randint(low=0, high=10, size=(5,4))\n",
    "A"
   ]
  },
  {
   "cell_type": "code",
   "execution_count": 7,
   "metadata": {},
   "outputs": [
    {
     "data": {
      "text/plain": [
       "array(['low', 'high', 'high', 'medium', 'medium', 'medium', 'low', 'low',\n",
       "       'low', 'high'], dtype='<U6')"
      ]
     },
     "execution_count": 7,
     "metadata": {},
     "output_type": "execute_result"
    }
   ],
   "source": [
    "np.random.seed(1995)\n",
    "labels = np.random.choice(['low', 'medium', 'high'], size=10)\n",
    "labels"
   ]
  },
  {
   "cell_type": "markdown",
   "metadata": {},
   "source": [
    "## Indexing\n",
    "Get the shape of an array rows x columns"
   ]
  },
  {
   "cell_type": "code",
   "execution_count": 8,
   "metadata": {},
   "outputs": [
    {
     "data": {
      "text/plain": [
       "(5, 4)"
      ]
     },
     "execution_count": 8,
     "metadata": {},
     "output_type": "execute_result"
    }
   ],
   "source": [
    "A.shape"
   ]
  },
  {
   "cell_type": "markdown",
   "metadata": {},
   "source": [
    "The first row is (zero indexing)"
   ]
  },
  {
   "cell_type": "code",
   "execution_count": 9,
   "metadata": {},
   "outputs": [
    {
     "data": {
      "text/plain": [
       "array([7, 9, 8, 1])"
      ]
     },
     "execution_count": 9,
     "metadata": {},
     "output_type": "execute_result"
    }
   ],
   "source": [
    "A[0]"
   ]
  },
  {
   "cell_type": "markdown",
   "metadata": {},
   "source": [
    "The first column is"
   ]
  },
  {
   "cell_type": "code",
   "execution_count": 10,
   "metadata": {},
   "outputs": [
    {
     "data": {
      "text/plain": [
       "array([7, 5, 8, 9, 6])"
      ]
     },
     "execution_count": 10,
     "metadata": {},
     "output_type": "execute_result"
    }
   ],
   "source": [
    "A[:,0]"
   ]
  },
  {
   "cell_type": "markdown",
   "metadata": {},
   "source": [
    "Slicing works too, how would you get the last two rows?"
   ]
  },
  {
   "cell_type": "code",
   "execution_count": 11,
   "metadata": {},
   "outputs": [
    {
     "data": {
      "text/plain": [
       "array([[9, 7, 2, 7],\n",
       "       [6, 4, 6, 7]])"
      ]
     },
     "execution_count": 11,
     "metadata": {},
     "output_type": "execute_result"
    }
   ],
   "source": [
    "A[-2:,:]"
   ]
  },
  {
   "cell_type": "markdown",
   "metadata": {},
   "source": [
    "## Array math\n",
    "Numpy can handle element-wise math directly, for example converting celcius to fahrenheit"
   ]
  },
  {
   "cell_type": "code",
   "execution_count": 12,
   "metadata": {},
   "outputs": [
    {
     "data": {
      "text/plain": [
       "array([[44.6, 48.2, 46.4, 33.8],\n",
       "       [41. , 33.8, 35.6, 46.4],\n",
       "       [46.4, 46.4, 39.2, 42.8],\n",
       "       [48.2, 44.6, 35.6, 44.6],\n",
       "       [42.8, 39.2, 42.8, 44.6]])"
      ]
     },
     "execution_count": 12,
     "metadata": {},
     "output_type": "execute_result"
    }
   ],
   "source": [
    "B = (9/5) * A + 32\n",
    "B"
   ]
  },
  {
   "cell_type": "markdown",
   "metadata": {},
   "source": [
    "Two arrays of same shape can be added etc."
   ]
  },
  {
   "cell_type": "code",
   "execution_count": 13,
   "metadata": {},
   "outputs": [
    {
     "data": {
      "text/plain": [
       "array([[51.6, 57.2, 54.4, 34.8],\n",
       "       [46. , 34.8, 37.6, 54.4],\n",
       "       [54.4, 54.4, 43.2, 48.8],\n",
       "       [57.2, 51.6, 37.6, 51.6],\n",
       "       [48.8, 43.2, 48.8, 51.6]])"
      ]
     },
     "execution_count": 13,
     "metadata": {},
     "output_type": "execute_result"
    }
   ],
   "source": [
    "A + B"
   ]
  },
  {
   "cell_type": "markdown",
   "metadata": {},
   "source": [
    "Or we can apply a math function to each element"
   ]
  },
  {
   "cell_type": "code",
   "execution_count": 14,
   "metadata": {},
   "outputs": [
    {
     "data": {
      "text/plain": [
       "array([[ 0.6569866 ,  0.41211849,  0.98935825,  0.84147098],\n",
       "       [-0.95892427,  0.84147098,  0.90929743,  0.98935825],\n",
       "       [ 0.98935825,  0.98935825, -0.7568025 , -0.2794155 ],\n",
       "       [ 0.41211849,  0.6569866 ,  0.90929743,  0.6569866 ],\n",
       "       [-0.2794155 , -0.7568025 , -0.2794155 ,  0.6569866 ]])"
      ]
     },
     "execution_count": 14,
     "metadata": {},
     "output_type": "execute_result"
    }
   ],
   "source": [
    "np.sin(A)"
   ]
  },
  {
   "cell_type": "markdown",
   "metadata": {},
   "source": [
    "## Array manipulation\n",
    "It is often useful to concatenate or stack arrays. This is similar to Matlab\n"
   ]
  },
  {
   "cell_type": "code",
   "execution_count": 15,
   "metadata": {},
   "outputs": [
    {
     "name": "stdout",
     "output_type": "stream",
     "text": [
      " hstack(*args, **kwargs)\n",
      "\n",
      "Stack arrays in sequence horizontally (column wise).\n",
      "\n",
      "This is equivalent to concatenation along the second axis, except for 1-D\n",
      "arrays where it concatenates along the first axis. Rebuilds arrays divided\n",
      "by `hsplit`.\n",
      "\n",
      "This function makes most sense for arrays with up to 3 dimensions. For\n",
      "instance, for pixel-data with a height (first axis), width (second axis),\n",
      "and r/g/b channels (third axis). The functions `concatenate`, `stack` and\n",
      "`block` provide more general stacking and concatenation operations.\n",
      "\n",
      "Parameters\n",
      "----------\n",
      "tup : sequence of ndarrays\n",
      "    The arrays must have the same shape along all but the second axis,\n",
      "    except 1-D arrays which can be any length.\n",
      "\n",
      "Returns\n",
      "-------\n",
      "stacked : ndarray\n",
      "    The array formed by stacking the given arrays.\n",
      "\n",
      "See Also\n",
      "--------\n",
      "concatenate : Join a sequence of arrays along an existing axis.\n",
      "stack : Join a sequence of arrays along a new axis.\n",
      "block : Assemble an nd-array from nested lists of blocks.\n",
      "vstack : Stack arrays in sequence vertically (row wise).\n",
      "dstack : Stack arrays in sequence depth wise (along third axis).\n",
      "column_stack : Stack 1-D arrays as columns into a 2-D array.\n",
      "hsplit : Split an array into multiple sub-arrays horizontally (column-wise).\n",
      "\n",
      "Examples\n",
      "--------\n",
      ">>> a = np.array((1,2,3))\n",
      ">>> b = np.array((2,3,4))\n",
      ">>> np.hstack((a,b))\n",
      "array([1, 2, 3, 2, 3, 4])\n",
      ">>> a = np.array([[1],[2],[3]])\n",
      ">>> b = np.array([[2],[3],[4]])\n",
      ">>> np.hstack((a,b))\n",
      "array([[1, 2],\n",
      "       [2, 3],\n",
      "       [3, 4]])\n"
     ]
    }
   ],
   "source": [
    "np.info(np.hstack)"
   ]
  },
  {
   "cell_type": "code",
   "execution_count": 16,
   "metadata": {},
   "outputs": [
    {
     "data": {
      "text/plain": [
       "array([[ 7. ,  9. ,  8. ,  1. , 44.6, 48.2, 46.4, 33.8],\n",
       "       [ 5. ,  1. ,  2. ,  8. , 41. , 33.8, 35.6, 46.4],\n",
       "       [ 8. ,  8. ,  4. ,  6. , 46.4, 46.4, 39.2, 42.8],\n",
       "       [ 9. ,  7. ,  2. ,  7. , 48.2, 44.6, 35.6, 44.6],\n",
       "       [ 6. ,  4. ,  6. ,  7. , 42.8, 39.2, 42.8, 44.6]])"
      ]
     },
     "execution_count": 16,
     "metadata": {},
     "output_type": "execute_result"
    }
   ],
   "source": [
    "C = np.hstack((A, B))\n",
    "C"
   ]
  },
  {
   "cell_type": "code",
   "execution_count": 17,
   "metadata": {},
   "outputs": [
    {
     "data": {
      "text/plain": [
       "(5, 8)"
      ]
     },
     "execution_count": 17,
     "metadata": {},
     "output_type": "execute_result"
    }
   ],
   "source": [
    "C.shape"
   ]
  },
  {
   "cell_type": "code",
   "execution_count": 18,
   "metadata": {},
   "outputs": [
    {
     "data": {
      "text/plain": [
       "array([[ 7. ,  9. ,  8. ,  1. ],\n",
       "       [ 5. ,  1. ,  2. ,  8. ],\n",
       "       [ 8. ,  8. ,  4. ,  6. ],\n",
       "       [ 9. ,  7. ,  2. ,  7. ],\n",
       "       [ 6. ,  4. ,  6. ,  7. ],\n",
       "       [44.6, 48.2, 46.4, 33.8],\n",
       "       [41. , 33.8, 35.6, 46.4],\n",
       "       [46.4, 46.4, 39.2, 42.8],\n",
       "       [48.2, 44.6, 35.6, 44.6],\n",
       "       [42.8, 39.2, 42.8, 44.6]])"
      ]
     },
     "execution_count": 18,
     "metadata": {},
     "output_type": "execute_result"
    }
   ],
   "source": [
    "D = np.vstack((A, B))\n",
    "D"
   ]
  },
  {
   "cell_type": "markdown",
   "metadata": {},
   "source": [
    "Elements in an array can be modified, either as single elements or entire rows/columns.  \n",
    "Let's create a copy first."
   ]
  },
  {
   "cell_type": "code",
   "execution_count": 19,
   "metadata": {},
   "outputs": [
    {
     "data": {
      "text/plain": [
       "array([[7, 9, 8, 1],\n",
       "       [5, 1, 2, 8],\n",
       "       [8, 8, 4, 6],\n",
       "       [9, 7, 2, 7],\n",
       "       [6, 4, 6, 7]])"
      ]
     },
     "execution_count": 19,
     "metadata": {},
     "output_type": "execute_result"
    }
   ],
   "source": [
    "A_t = np.copy(A)\n",
    "A_t"
   ]
  },
  {
   "cell_type": "code",
   "execution_count": 20,
   "metadata": {},
   "outputs": [
    {
     "data": {
      "text/plain": [
       "array([[10,  9,  8,  1],\n",
       "       [ 5,  1,  2,  8],\n",
       "       [ 8,  8,  4,  6],\n",
       "       [ 9,  7,  2,  7],\n",
       "       [ 6,  4,  6,  7]])"
      ]
     },
     "execution_count": 20,
     "metadata": {},
     "output_type": "execute_result"
    }
   ],
   "source": [
    "A_t[0,0] = 10\n",
    "A_t"
   ]
  },
  {
   "cell_type": "code",
   "execution_count": 21,
   "metadata": {},
   "outputs": [
    {
     "data": {
      "text/plain": [
       "array([[10,  9,  8,  1],\n",
       "       [ 5,  1,  2,  8],\n",
       "       [ 8,  8,  4,  6],\n",
       "       [ 9,  7,  2,  7],\n",
       "       [-1, -1, -1, -1]])"
      ]
     },
     "execution_count": 21,
     "metadata": {},
     "output_type": "execute_result"
    }
   ],
   "source": [
    "A_t[-1, :] = -1\n",
    "A_t"
   ]
  },
  {
   "cell_type": "code",
   "execution_count": 22,
   "metadata": {},
   "outputs": [
    {
     "data": {
      "text/plain": [
       "array([[10,  9,  8,  1],\n",
       "       [ 5,  1,  2,  8],\n",
       "       [ 8,  8,  4,  6],\n",
       "       [ 9,  7,  2,  7],\n",
       "       [-1, -1,  5,  5]])"
      ]
     },
     "execution_count": 22,
     "metadata": {},
     "output_type": "execute_result"
    }
   ],
   "source": [
    "A_t[-1, -2:] = [5, 5]\n",
    "A_t"
   ]
  }
 ],
 "metadata": {
  "kernelspec": {
   "display_name": "Python 3",
   "language": "python",
   "name": "python3"
  },
  "language_info": {
   "codemirror_mode": {
    "name": "ipython",
    "version": 3
   },
   "file_extension": ".py",
   "mimetype": "text/x-python",
   "name": "python",
   "nbconvert_exporter": "python",
   "pygments_lexer": "ipython3",
   "version": "3.8.8"
  }
 },
 "nbformat": 4,
 "nbformat_minor": 4
}
